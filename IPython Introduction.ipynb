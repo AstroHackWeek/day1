{
 "metadata": {
  "kernelspec": {
   "codemirror_mode": {
    "name": "ipython",
    "version": 2
   },
   "display_name": "IPython (Python 2)",
   "language": "python",
   "name": "python2"
  },
  "name": "",
  "signature": "sha256:064fa92b2b82d9b60a7aae1a7c17663d2d4dc405d3572e3ff5d9ebb3bccb5728"
 },
 "nbformat": 3,
 "nbformat_minor": 0,
 "worksheets": [
  {
   "cells": [
    {
     "cell_type": "heading",
     "level": 1,
     "metadata": {},
     "source": [
      "IPython: a quick introduction"
     ]
    },
    {
     "cell_type": "markdown",
     "metadata": {},
     "source": [
      "* [Notebook Basics](ipython/Notebook Basics.ipynb)\n",
      "* [IPython - beyond plain python](ipython/Beyond Plain Python.ipynb)\n",
      "* [Markdown Cells](ipython/Working With Markdown Cells.ipynb)\n",
      "* [Rich Display System](ipython/Rich Output.ipynb)\n",
      "* [Custom Display Logic](ipython/Custom Display Logic.ipynb)\n",
      "* [Introduction to Interactive Javascript Widgets](ipython/Using Interact.ipynb)\n",
      "* [Sharing public notebooks](http://nbviewer.ipython.org)\n",
      "* [Converting notebooks to other formats](ipython/Converting Notebooks With nbconvert.ipynb)"
     ]
    },
    {
     "cell_type": "markdown",
     "metadata": {},
     "source": [
      "## Other useful links\n",
      "\n",
      "* [The main IPython site](http://ipython.org) and [documentation](http://ipython.org/documentation.html).\n",
      "* Our official [example collection](http://nbviewer.ipython.org/github/ipython/ipython/blob/master/examples/Index.ipynb).\n",
      "* [Installation instructions](http://ipython.org/install.html)\n"
     ]
    },
    {
     "cell_type": "code",
     "collapsed": false,
     "input": [],
     "language": "python",
     "metadata": {},
     "outputs": []
    }
   ],
   "metadata": {}
  }
 ]
}